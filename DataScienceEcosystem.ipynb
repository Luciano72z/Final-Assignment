{
 "cells": [
  {
   "cell_type": "markdown",
   "id": "3c394946-a9e2-4838-8305-d6bd71fc17e8",
   "metadata": {},
   "source": [
    "<center>\n",
    "    <img src=\"https://cf-courses-data.s3.us.cloud-object-storage.appdomain.cloud/IBMDeveloperSkillsNetwork-DS0105EN-SkillsNetwork/labs/Module2/images/SN_web_lightmode.png\" width=\"300\" alt=\"cognitiveclass.ai logo\">\n",
    "</center>"
   ]
  },
  {
   "cell_type": "markdown",
   "id": "5c6af2ca-ff6a-4cef-9200-5e2b2e463d98",
   "metadata": {
    "tags": []
   },
   "source": [
    "#### Add your code below following the instructions given in the course"
   ]
  },
  {
   "cell_type": "markdown",
   "id": "000e730d-1b3e-46ce-981a-e898bddfa64c",
   "metadata": {},
   "source": [
    "<h1>Data Science Tools and Ecosystem"
   ]
  },
  {
   "cell_type": "markdown",
   "id": "edad710f-001e-4b21-a62f-035a7fce49f2",
   "metadata": {},
   "source": [
    "In this notebook, Data Science Tools and Ecosystem are summarized."
   ]
  },
  {
   "cell_type": "markdown",
   "id": "465fca1a-96fb-4247-b409-16d1b35a13b8",
   "metadata": {},
   "source": [
    "**Objectives:**\n",
    "- Markdown tables;\n",
    "- Markdown Lists;\n",
    "- Libraries in Data Scientists;\n",
    "- Languages in Data Scientists;\n",
    "   "
   ]
  },
  {
   "cell_type": "markdown",
   "id": "3573b29a-862c-495e-93be-a53d47f29a61",
   "metadata": {},
   "source": [
    "<h2>Author:"
   ]
  },
  {
   "cell_type": "markdown",
   "id": "aad6c05d-b22b-4d2c-afdb-b4b992025b34",
   "metadata": {},
   "source": [
    "Luciano André Zardo"
   ]
  },
  {
   "cell_type": "markdown",
   "id": "b9f29f5a-260b-4430-8a18-b91f148cefe6",
   "metadata": {},
   "source": [
    "Some of the popular languages that Data Scientists use are:\n",
    "1. Python;\n",
    "2. R\n",
    "3. Julia\n",
    "4. SQL"
   ]
  },
  {
   "cell_type": "markdown",
   "id": "23d5a00e-5e59-402e-98b6-4f4f30bd5729",
   "metadata": {},
   "source": [
    "Some of the commonly used libraries used by Data Scientists include:\n",
    "1. NumPy\n",
    "2. SciPy\n",
    "3. Pandas\n",
    "4. SciKit-Learn"
   ]
  },
  {
   "cell_type": "markdown",
   "id": "21ad376c-17cd-4b4b-91c7-066023230d51",
   "metadata": {},
   "source": [
    "|Data Science Tools|\n",
    "|------------------|\n",
    "|RStudio|\n",
    "|Apache Spark|\n",
    "|TensorFlowA|"
   ]
  },
  {
   "cell_type": "markdown",
   "id": "99e87e83-2b35-4ed9-8ee6-14581eae56e5",
   "metadata": {},
   "source": [
    "<h3>Below are a few examples of evaluating arithmetic expressions in Python"
   ]
  },
  {
   "cell_type": "code",
   "execution_count": 3,
   "id": "13005439-b004-4da4-b008-85a658613f6f",
   "metadata": {
    "tags": []
   },
   "outputs": [],
   "source": [
    "#This a simple arithmetic expression to mutiply then add integers"
   ]
  },
  {
   "cell_type": "code",
   "execution_count": 4,
   "id": "820fb8f8-e84e-4fd8-ae05-637d6309f501",
   "metadata": {
    "tags": []
   },
   "outputs": [
    {
     "data": {
      "text/plain": [
       "17"
      ]
     },
     "execution_count": 4,
     "metadata": {},
     "output_type": "execute_result"
    }
   ],
   "source": [
    "(3*4)+5"
   ]
  },
  {
   "cell_type": "code",
   "execution_count": 12,
   "id": "fce0f411-1262-4164-a861-776a246237a0",
   "metadata": {
    "tags": []
   },
   "outputs": [],
   "source": [
    "#This will convert 200 minutes to hours by diving by 60"
   ]
  },
  {
   "cell_type": "code",
   "execution_count": 9,
   "id": "766d4b3c-e481-421e-a454-20dc55c25779",
   "metadata": {
    "tags": []
   },
   "outputs": [],
   "source": [
    "minutes = 200"
   ]
  },
  {
   "cell_type": "code",
   "execution_count": 10,
   "id": "334d90ae-49f9-475f-aae5-312f886161a7",
   "metadata": {
    "tags": []
   },
   "outputs": [],
   "source": [
    "hours = minutes/60"
   ]
  },
  {
   "cell_type": "code",
   "execution_count": 11,
   "id": "7a76ffbc-52cf-48b8-948d-91da238c71be",
   "metadata": {
    "tags": []
   },
   "outputs": [
    {
     "name": "stdout",
     "output_type": "stream",
     "text": [
      "3.3333333333333335\n"
     ]
    }
   ],
   "source": [
    "print (hours)"
   ]
  },
  {
   "cell_type": "markdown",
   "id": "3542249c-8bb5-46c5-81f3-f2a877c6f948",
   "metadata": {},
   "source": [
    "Objectives:"
   ]
  },
  {
   "cell_type": "markdown",
   "id": "24b58a4e-4516-42eb-a4d5-27d8ed315aa0",
   "metadata": {},
   "source": [
    "List popular languages for Data Science:\n",
    " 1. Python;\n",
    "2. R\n",
    "3. Julia\n",
    "4. SQL    "
   ]
  },
  {
   "cell_type": "code",
   "execution_count": null,
   "id": "fced0eee-7003-4ccf-bbbf-f21766d4d0d4",
   "metadata": {},
   "outputs": [],
   "source": []
  }
 ],
 "metadata": {
  "kernelspec": {
   "display_name": "Python 3 (ipykernel)",
   "language": "python",
   "name": "python3"
  },
  "language_info": {
   "codemirror_mode": {
    "name": "ipython",
    "version": 3
   },
   "file_extension": ".py",
   "mimetype": "text/x-python",
   "name": "python",
   "nbconvert_exporter": "python",
   "pygments_lexer": "ipython3",
   "version": "3.11.5"
  }
 },
 "nbformat": 4,
 "nbformat_minor": 5
}
